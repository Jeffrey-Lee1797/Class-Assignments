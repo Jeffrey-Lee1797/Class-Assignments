{
 "cells": [
  {
   "cell_type": "code",
   "execution_count": 1,
   "metadata": {
    "collapsed": false
   },
   "outputs": [],
   "source": [
    "nature_birds = {}\n",
    "ff = open(\"/home/eeb177-student/Desktop/EEB-177/Class-Assignments/formatted.nature.csv\", \"r\", encoding = \"ISO-8859-15\")\n",
    "ss = ff.readlines()[1:]\n",
    "for line in ss:\n",
    "    sp = line.split(\",\")[0]\n",
    "    fam = line.split(\",\")[2]\n",
    "    nature_birds[sp] = fam\n",
    "ff.close()"
   ]
  },
  {
   "cell_type": "code",
   "execution_count": 6,
   "metadata": {
    "collapsed": false
   },
   "outputs": [],
   "source": [
    "def makeBirdDict(filename):\n",
    "    # This function opensthe data file form Thomas et al and extracts the species and family as a dictionary \n",
    "    birdDict = {}\n",
    "    # Open the file\n",
    "    fobj = open(filename, \"r\", encoding = \"ISO-8859-15\")\n",
    "    # Read the file\n",
    "    all_records = fobj.readlines()[1:]\n",
    "    # Split lines on comma\n",
    "    for line in all_records:\n",
    "        record_elements = line.split(\",\")\n",
    "        species = record_elements[0]\n",
    "        family = record_elements[2]\n",
    "        birdDict[species] = family\n",
    "    # Stick species and family into birdDict\n",
    "    return birdDict"
   ]
  },
  {
   "cell_type": "code",
   "execution_count": 31,
   "metadata": {
    "collapsed": false
   },
   "outputs": [],
   "source": [
    "#makeBirdDict(\"/home/eeb177-student/Desktop/EEB-177/Homework/formattednature.csv\")"
   ]
  },
  {
   "cell_type": "code",
   "execution_count": 7,
   "metadata": {
    "collapsed": false
   },
   "outputs": [
    {
     "name": "stdout",
     "output_type": "stream",
     "text": [
      "Family of Abeillia_abeilleiis Trochilidae\n"
     ]
    }
   ],
   "source": [
    "thomas_birds = makeBirdDict(\"/home/eeb177-student/Desktop/EEB-177/Homework/formattednature.csv\")\n",
    "species = list(thomas_birds.keys())\n",
    "species.sort()\n",
    "first_species = species[0]\n",
    "first_fam = thomas_birds[first_species]\n",
    "print(\"Family of \" + species[1] + \"is \" + thomas_birds[species[1]])"
   ]
  },
  {
   "cell_type": "code",
   "execution_count": 10,
   "metadata": {
    "collapsed": false
   },
   "outputs": [
    {
     "name": "stdout",
     "output_type": "stream",
     "text": [
      "I own 3 dogs\n"
     ]
    }
   ],
   "source": [
    "def outoforder(number, pet):\n",
    "    print(\"I own {} {}s\".format(number, pet))\n",
    "    \n",
    "outoforder(3, \"dog\")"
   ]
  },
  {
   "cell_type": "code",
   "execution_count": 11,
   "metadata": {
    "collapsed": false
   },
   "outputs": [
    {
     "name": "stdout",
     "output_type": "stream",
     "text": [
      "I own 3 dogs\n"
     ]
    }
   ],
   "source": [
    "outoforder(pet = \"dog\", number = 3)"
   ]
  },
  {
   "cell_type": "code",
   "execution_count": null,
   "metadata": {
    "collapsed": true
   },
   "outputs": [],
   "source": []
  }
 ],
 "metadata": {
  "anaconda-cloud": {},
  "kernelspec": {
   "display_name": "Python [default]",
   "language": "python",
   "name": "python3"
  },
  "language_info": {
   "codemirror_mode": {
    "name": "ipython",
    "version": 3
   },
   "file_extension": ".py",
   "mimetype": "text/x-python",
   "name": "python",
   "nbconvert_exporter": "python",
   "pygments_lexer": "ipython3",
   "version": "3.5.2"
  }
 },
 "nbformat": 4,
 "nbformat_minor": 2
}
