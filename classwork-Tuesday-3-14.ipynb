{
 "cells": [
  {
   "cell_type": "markdown",
   "metadata": {},
   "source": [
    "# Lightning Talk Schedule\n",
    "09:30 Kelsey Jiang\n",
    "\n",
    "09:34 Dominique Castro\n",
    "\n",
    "09:38 Linna Sun\n",
    "\n",
    "09:42 Ashen Parikh\n",
    "\n",
    "09:46 Matthew Muia\n",
    "\n",
    "09:50 Antonella Gonzalez\n",
    "\n",
    "09:54 Yee Chau\n",
    "\n",
    "09:58 Kristen Lee\n",
    "\n",
    "10:02 Madison Downing\n",
    "\n",
    "10:06 Youstina Salama\n",
    "\n",
    "10:10 Jeremy Wadowski\n",
    "\n",
    "10:14 Mehdi Nojoumi\n",
    "\n",
    "10:18 Junghoon Kim\n",
    "\n",
    "10:22 Dustin Wong\n",
    "\n",
    "10:26 Hyein Kil\n"
   ]
  },
  {
   "cell_type": "markdown",
   "metadata": {},
   "source": [
    "### Kelsey Jiang\n",
    "\n",
    "Do your results/graphs signal the potential of an upcoming mass extinction period?"
   ]
  },
  {
   "cell_type": "markdown",
   "metadata": {},
   "source": [
    "### Dominique Castro\n",
    "How would you interpret your graphs in a useful way for current dog breeders?"
   ]
  },
  {
   "cell_type": "markdown",
   "metadata": {},
   "source": [
    "### Linna Sun\n",
    "Are there any potential reasons for the recent decrease in diversity?"
   ]
  },
  {
   "cell_type": "markdown",
   "metadata": {},
   "source": [
    "### Ashen Parikh\n",
    "Can you propose a hypothesis for the similarities in decision times in India and the USA?"
   ]
  },
  {
   "cell_type": "markdown",
   "metadata": {},
   "source": [
    "### Matthew Mula\n",
    "What is the significance of a bootstrapping test?"
   ]
  },
  {
   "cell_type": "markdown",
   "metadata": {},
   "source": [
    "### Antonella Gonzalez\n",
    "Can you think of a reason for the decrease in extant species compared to the past?"
   ]
  },
  {
   "cell_type": "markdown",
   "metadata": {},
   "source": [
    "### Yee Chau\n",
    "Based on your results/graphs, what do you think of the possibility of another mass extinction period?"
   ]
  },
  {
   "cell_type": "markdown",
   "metadata": {},
   "source": [
    "### Kristen Lee\n",
    "Can you explain the reason for the geographic expansion into the northern regions?"
   ]
  },
  {
   "cell_type": "markdown",
   "metadata": {},
   "source": [
    "### Madison Downing\n",
    "What common trends, if any, were there between the mammals and the birds?"
   ]
  },
  {
   "cell_type": "markdown",
   "metadata": {},
   "source": [
    "### Youstina Salama\n",
    "What were your findings from these graphs in terms of speciation rates over time?"
   ]
  },
  {
   "cell_type": "markdown",
   "metadata": {},
   "source": [
    "### Jeremy Wadowsk\n",
    "Does the average person fall significantly below their VO2 max rate? "
   ]
  },
  {
   "cell_type": "markdown",
   "metadata": {},
   "source": [
    "### Mehdi Nojoumi\n",
    "Can you explain your decision to use a pie chart?"
   ]
  },
  {
   "cell_type": "markdown",
   "metadata": {},
   "source": [
    "### Junghoon Kim\n",
    "What interesting results can you interpret from your graphs?"
   ]
  },
  {
   "cell_type": "markdown",
   "metadata": {},
   "source": [
    "### Dustin Wong\n",
    "How has speciation changed in recent times?"
   ]
  },
  {
   "cell_type": "markdown",
   "metadata": {},
   "source": [
    "### Hyein Kil\n",
    "Did you see any changes in the American birds that could explain why they didn't contract the flu?"
   ]
  },
  {
   "cell_type": "code",
   "execution_count": null,
   "metadata": {
    "collapsed": true
   },
   "outputs": [],
   "source": []
  }
 ],
 "metadata": {
  "anaconda-cloud": {},
  "kernelspec": {
   "display_name": "Python [conda root]",
   "language": "python",
   "name": "conda-root-py"
  },
  "language_info": {
   "codemirror_mode": {
    "name": "ipython",
    "version": 3
   },
   "file_extension": ".py",
   "mimetype": "text/x-python",
   "name": "python",
   "nbconvert_exporter": "python",
   "pygments_lexer": "ipython3",
   "version": "3.5.2"
  }
 },
 "nbformat": 4,
 "nbformat_minor": 2
}
