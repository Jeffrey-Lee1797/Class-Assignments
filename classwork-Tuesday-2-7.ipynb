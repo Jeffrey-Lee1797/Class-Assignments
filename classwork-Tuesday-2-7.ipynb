{
 "cells": [
  {
   "cell_type": "markdown",
   "metadata": {},
   "source": [
    "# Defining a Programming Challenge\n",
    "**Example**: Write a program that asks the user for a temperature in Farenheit and prints out the same temperature in Celsius"
   ]
  },
  {
   "cell_type": "markdown",
   "metadata": {},
   "source": [
    "xx = user input in F \n",
    "\n",
    "yy = convert xx to C \n",
    "\n",
    "print yy"
   ]
  },
  {
   "cell_type": "code",
   "execution_count": 33,
   "metadata": {
    "collapsed": false
   },
   "outputs": [
    {
     "name": "stdout",
     "output_type": "stream",
     "text": [
      "What is the temperature in Farenheit? 212\n",
      "The temperature is 100.0 degrees Celsius.\n"
     ]
    }
   ],
   "source": [
    "temp = input(\"What is the temperature in Farenheit? \")\n",
    "xx = float(temp)\n",
    "yy = (xx - 32) / 1.8\n",
    "print(\"The temperature is \" + str(yy) + \" degrees Celsius.\")\n",
    "#print(\"The temperature is {}\".format(yy) + \" degrees Celisus.\")\n",
    "\n",
    "# Can use {}.format(yy)"
   ]
  },
  {
   "cell_type": "code",
   "execution_count": 39,
   "metadata": {
    "collapsed": false
   },
   "outputs": [
    {
     "name": "stdout",
     "output_type": "stream",
     "text": [
      "[5, 8]\n",
      "[5, 8]\n",
      "[5, 8]\n"
     ]
    }
   ],
   "source": [
    "a = [1, 1, 2, 3, 5, 8] \n",
    "print(a[4:])\n",
    "print(a[4:6])\n",
    "print(a[-2:])"
   ]
  },
  {
   "cell_type": "code",
   "execution_count": 40,
   "metadata": {
    "collapsed": false
   },
   "outputs": [
    {
     "data": {
      "text/plain": [
       "[1, 1, 2, 3, 5, 8, 13]"
      ]
     },
     "execution_count": 40,
     "metadata": {},
     "output_type": "execute_result"
    }
   ],
   "source": [
    "a.append(13)\n",
    "a"
   ]
  },
  {
   "cell_type": "code",
   "execution_count": 45,
   "metadata": {
    "collapsed": false
   },
   "outputs": [
    {
     "data": {
      "text/plain": [
       "[13, 8, 5, 3, 2, 1, 1]"
      ]
     },
     "execution_count": 45,
     "metadata": {},
     "output_type": "execute_result"
    }
   ],
   "source": [
    "a.reverse()\n",
    "a"
   ]
  },
  {
   "cell_type": "code",
   "execution_count": 2,
   "metadata": {
    "collapsed": false
   },
   "outputs": [
    {
     "name": "stdout",
     "output_type": "stream",
     "text": [
      "{'Mother': 'Jill', 'Son': 'Jeffrey', 'Father': 'Jack'}\n",
      "{'Mother': 'Jill', 'Son': 'Jeffrey', 'Brother': 'Bob', 'Father': 'Jack'}\n"
     ]
    }
   ],
   "source": [
    "Family = {\"Father\" : \"Jack\", \"Mother\" : \"Jill\", \"Son\" : \"Jeffrey\"}\n",
    "print(Family)\n",
    "Family[\"Brother\"] = \"Bob\"\n",
    "print(Family)"
   ]
  },
  {
   "cell_type": "code",
   "execution_count": 61,
   "metadata": {
    "collapsed": false
   },
   "outputs": [
    {
     "data": {
      "text/plain": [
       "dict_items([('Son', 'Jeffrey'), ('Mother', 'Jill'), ('Brother', 'Bob'), ('Father', 'Jack')])"
      ]
     },
     "execution_count": 61,
     "metadata": {},
     "output_type": "execute_result"
    }
   ],
   "source": [
    "Family.items()"
   ]
  },
  {
   "cell_type": "code",
   "execution_count": 62,
   "metadata": {
    "collapsed": false
   },
   "outputs": [
    {
     "name": "stdout",
     "output_type": "stream",
     "text": [
      "('Son', 'Jeffrey')\n",
      "('Mother', 'Jill')\n",
      "('Brother', 'Bob')\n",
      "('Father', 'Jack')\n"
     ]
    }
   ],
   "source": [
    "for pair in Family.items():\n",
    "    print(pair)"
   ]
  },
  {
   "cell_type": "code",
   "execution_count": 66,
   "metadata": {
    "collapsed": false
   },
   "outputs": [
    {
     "name": "stdout",
     "output_type": "stream",
     "text": [
      "Son Jeffrey\n",
      "Mother Jill\n",
      "Brother Bob\n",
      "Father Jack\n"
     ]
    }
   ],
   "source": [
    "for key, value in Family.items():\n",
    "    print(key, value)"
   ]
  },
  {
   "cell_type": "code",
   "execution_count": 10,
   "metadata": {
    "collapsed": false
   },
   "outputs": [
    {
     "data": {
      "text/plain": [
       "'Jill'"
      ]
     },
     "execution_count": 10,
     "metadata": {},
     "output_type": "execute_result"
    }
   ],
   "source": [
    "list(Family.items())[0][1]"
   ]
  },
  {
   "cell_type": "code",
   "execution_count": 15,
   "metadata": {
    "collapsed": false
   },
   "outputs": [
    {
     "data": {
      "text/plain": [
       "['Son', 'Mother', 'Father', 'Brother']"
      ]
     },
     "execution_count": 15,
     "metadata": {},
     "output_type": "execute_result"
    }
   ],
   "source": [
    "relatives = list(Family.keys())\n",
    "relatives.sort()\n",
    "relatives.reverse()\n",
    "relatives"
   ]
  },
  {
   "cell_type": "code",
   "execution_count": 17,
   "metadata": {
    "collapsed": false
   },
   "outputs": [
    {
     "data": {
      "text/plain": [
       "dict_values(['Jill', 'Jeffrey', 'Bob', 'Jack'])"
      ]
     },
     "execution_count": 17,
     "metadata": {},
     "output_type": "execute_result"
    }
   ],
   "source": [
    "Family.values()"
   ]
  },
  {
   "cell_type": "code",
   "execution_count": null,
   "metadata": {
    "collapsed": true
   },
   "outputs": [],
   "source": []
  }
 ],
 "metadata": {
  "language_info": {
   "codemirror_mode": {
    "name": "ipython",
    "version": 3
   },
   "file_extension": ".py",
   "mimetype": "text/x-python",
   "name": "python",
   "nbconvert_exporter": "python",
   "pygments_lexer": "ipython3",
   "version": "3.5.2"
  }
 },
 "nbformat": 4,
 "nbformat_minor": 2
}
