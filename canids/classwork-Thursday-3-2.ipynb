{
 "cells": [
  {
   "cell_type": "code",
   "execution_count": 35,
   "metadata": {
    "collapsed": true
   },
   "outputs": [],
   "source": [
    "## Open the file\n",
    "\n",
    "infile = \"clean_canid.csv\"\n",
    "with open(infile, 'r') as ff:\n",
    "    canid_recs = ff.readlines()[1:]"
   ]
  },
  {
   "cell_type": "code",
   "execution_count": 36,
   "metadata": {
    "collapsed": false
   },
   "outputs": [],
   "source": [
    "# Make a dictioanary\n",
    "\n",
    "#canid_recs\n",
    "from collections import defaultdict\n",
    "\n",
    "species_range = defaultdict(list)\n",
    "\n",
    "for line in canid_recs:\n",
    "    species = line.split(\",\")[5]\n",
    "    minage = line.split('\",\"')[10]\n",
    "    maxage = line.split('\",\"')[11]\n",
    "    \n",
    "    mean_age = (float(minage) + float(maxage)) / 2\n",
    "    \n",
    "    # Add species as keys and mean ages as elements to the list of ages \n",
    "    species_range[species].append(mean_age)\n",
    "    \n",
    "    #print(mean_age)"
   ]
  },
  {
   "cell_type": "markdown",
   "metadata": {},
   "source": [
    "# Get the oldest and youngest ages of fossils for each species in species_range"
   ]
  },
  {
   "cell_type": "code",
   "execution_count": 41,
   "metadata": {
    "collapsed": false
   },
   "outputs": [],
   "source": [
    "output = open(\"canid-ranges.csv\", \"w\")\n",
    "\n",
    "for key in species_range.keys():\n",
    "    ages = species_range[key]\n",
    "    minage = min(ages)\n",
    "    maxage = max(ages)\n",
    "    genus = key.split(\" \")[0]\n",
    "    species = key\n",
    "    #print(genus, key, minage, maxage)\n",
    "    outline = \"{},{},{},{}\\n\".format(genus, species, minage, maxage)\n",
    "    #print(outline)\n",
    "    output.write(outline)\n",
    "    \n",
    "    # Homework: Get rid of quotes around genus and species"
   ]
  },
  {
   "cell_type": "code",
   "execution_count": null,
   "metadata": {
    "collapsed": true
   },
   "outputs": [],
   "source": []
  }
 ],
 "metadata": {
  "anaconda-cloud": {},
  "kernelspec": {
   "display_name": "Python [conda root]",
   "language": "python",
   "name": "conda-root-py"
  },
  "language_info": {
   "codemirror_mode": {
    "name": "ipython",
    "version": 3
   },
   "file_extension": ".py",
   "mimetype": "text/x-python",
   "name": "python",
   "nbconvert_exporter": "python",
   "pygments_lexer": "ipython3",
   "version": "3.5.2"
  }
 },
 "nbformat": 4,
 "nbformat_minor": 2
}
