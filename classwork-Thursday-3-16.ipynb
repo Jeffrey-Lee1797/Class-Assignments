{
 "cells": [
  {
   "cell_type": "markdown",
   "metadata": {},
   "source": [
    "### 09:30 Aditya Kantawala\n",
    "How will you account for continental drift (Pangea) in your world map for dinosaur fossils?\n",
    "\n",
    "### 09:34 Justin Shieh\n",
    "Do you think there is a correlation between body size and evolutionary fitness?\n",
    "\n",
    "### 09:38 Sarah Kim\n",
    "Why do you think most of the Canis genus is still extant?\n",
    "\n",
    "### 09:42 Christina Zhou\n",
    "Why do you think that bats are so abundant? \n",
    "\n",
    "### 09:46 Gayane Hovsepyan\n",
    "What is the significance of your data in terms of autism diagnoses? \n",
    "\n",
    "### 09:50 Roxana Nojoumi\n",
    "What relationship were you expecting between horses and plants?\n",
    "\n",
    "### 09:54 Cooper Kass\n",
    "What evolutionary benefit do you think seagrasses gain from being invasive?\n",
    "\n",
    "### 10:02 Laura Trejo\n",
    "Why do you think the birds settled in the tropical areas?\n",
    "\n",
    "### 10:06 Jin Kim\n",
    "What was the purpose of focusing on the two species that had the longest range in the fossil records?\n",
    "\n",
    "### 10:10 Marina Salama\n",
    "What do you think explains the distribution of the frogs?\n",
    "\n",
    "### 10:14 Erin Solis\n",
    "Why do you think there was a jump in extinction rates?\n",
    "\n",
    "### 10:18 Sean Mathew\n",
    "What might explain the inconsistency in the fossil record and the proposed diversity explosion?\n",
    "\n",
    "### 10:22 Tiffany Dang\n",
    "Why do you think a number of species died off recently?"
   ]
  },
  {
   "cell_type": "code",
   "execution_count": null,
   "metadata": {
    "collapsed": true
   },
   "outputs": [],
   "source": []
  }
 ],
 "metadata": {
  "anaconda-cloud": {},
  "kernelspec": {
   "display_name": "Python [conda root]",
   "language": "python",
   "name": "conda-root-py"
  },
  "language_info": {
   "codemirror_mode": {
    "name": "ipython",
    "version": 3
   },
   "file_extension": ".py",
   "mimetype": "text/x-python",
   "name": "python",
   "nbconvert_exporter": "python",
   "pygments_lexer": "ipython3",
   "version": "3.5.2"
  }
 },
 "nbformat": 4,
 "nbformat_minor": 2
}
