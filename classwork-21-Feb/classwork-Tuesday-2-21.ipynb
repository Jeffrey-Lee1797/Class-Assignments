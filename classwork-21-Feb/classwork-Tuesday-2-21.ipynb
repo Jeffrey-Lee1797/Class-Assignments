{
 "cells": [
  {
   "cell_type": "markdown",
   "metadata": {},
   "source": [
    "# Guided Exploration of the Data\n",
    "\n",
    "The cocolisp.txt file's rows lists the genus, species, and family of each specific tree.\n",
    "\n",
    "The cocoli.txt file's rows lists the condition and measurement of each specific tree."
   ]
  },
  {
   "cell_type": "markdown",
   "metadata": {},
   "source": [
    "The entry in the column multi2 refers to the number of stems the plant has at 1.3m at the second census date.\n",
    "\n",
    "The entry in the column dbh2 refers to the diameter at breast height at the second census date.\n",
    "\n",
    "We can find the genus and species name of this record by looking up the spcode in the cocolisp.txt\n",
    "\n",
    "The genus and species name of this record is Calycophyllum\tcandidissimum."
   ]
  },
  {
   "cell_type": "markdown",
   "metadata": {},
   "source": [
    "Individual 000001 kept growing.\n",
    "\n",
    "Individual 000029 died."
   ]
  },
  {
   "cell_type": "markdown",
   "metadata": {},
   "source": [
    "#### Interesting Questions\n",
    "\n",
    "Which species are more prone to death?\n",
    "\n",
    "Is growth standard across the plot?"
   ]
  },
  {
   "cell_type": "markdown",
   "metadata": {},
   "source": [
    "Piper is the most species-rich genus in this community.\n",
    "\n",
    "99 genera only have 1 species."
   ]
  },
  {
   "cell_type": "markdown",
   "metadata": {},
   "source": [
    "#### Pseudocode\n",
    "\n",
    "Import the file. \n",
    "\n",
    "Calculate the RGR for all the species.\n",
    "\n",
    "Assign the spcode as the keys in a dictionary and the RGR as the values. \n",
    "\n",
    "Run through the values with a for loop to look for the highest value.\n"
   ]
  },
  {
   "cell_type": "code",
   "execution_count": null,
   "metadata": {
    "collapsed": true
   },
   "outputs": [],
   "source": []
  }
 ],
 "metadata": {
  "anaconda-cloud": {},
  "kernelspec": {
   "display_name": "Python [conda root]",
   "language": "python",
   "name": "conda-root-py"
  },
  "language_info": {
   "codemirror_mode": {
    "name": "ipython",
    "version": 3
   },
   "file_extension": ".py",
   "mimetype": "text/x-python",
   "name": "python",
   "nbconvert_exporter": "python",
   "pygments_lexer": "ipython3",
   "version": "3.5.2"
  }
 },
 "nbformat": 4,
 "nbformat_minor": 2
}
